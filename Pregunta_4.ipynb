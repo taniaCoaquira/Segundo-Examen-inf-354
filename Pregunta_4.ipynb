{
  "nbformat": 4,
  "nbformat_minor": 0,
  "metadata": {
    "colab": {
      "provenance": []
    },
    "kernelspec": {
      "name": "python3",
      "display_name": "Python 3"
    },
    "language_info": {
      "name": "python"
    }
  },
  "cells": [
    {
      "cell_type": "code",
      "source": [
        "pip install deap"
      ],
      "metadata": {
        "colab": {
          "base_uri": "https://localhost:8080/"
        },
        "id": "vq3IEGpeEIIT",
        "outputId": "5fae9e35-3a5f-40ff-8b0f-c804b807cd3d"
      },
      "execution_count": null,
      "outputs": [
        {
          "output_type": "stream",
          "name": "stdout",
          "text": [
            "Looking in indexes: https://pypi.org/simple, https://us-python.pkg.dev/colab-wheels/public/simple/\n",
            "Collecting deap\n",
            "  Downloading deap-1.3.3-cp38-cp38-manylinux_2_5_x86_64.manylinux1_x86_64.manylinux_2_17_x86_64.manylinux2014_x86_64.whl (139 kB)\n",
            "\u001b[K     |████████████████████████████████| 139 kB 5.9 MB/s \n",
            "\u001b[?25hRequirement already satisfied: numpy in /usr/local/lib/python3.8/dist-packages (from deap) (1.21.6)\n",
            "Installing collected packages: deap\n",
            "Successfully installed deap-1.3.3\n"
          ]
        }
      ]
    },
    {
      "cell_type": "code",
      "execution_count": null,
      "metadata": {
        "colab": {
          "base_uri": "https://localhost:8080/"
        },
        "id": "c1o9JqdrDD7h",
        "outputId": "3bf6f8dd-fe43-46ff-f340-dbfbf4455d8c"
      },
      "outputs": [
        {
          "output_type": "stream",
          "name": "stdout",
          "text": [
            "gen\tnevals\tmean\tmin\tmax\n",
            "0  \t10    \t42  \t31 \t52 \n",
            "1  \t9     \t35.6\t25 \t44 \n",
            "2  \t10    \t31.4\t25 \t39 \n",
            "3  \t7     \t29.4\t25 \t39 \n",
            "4  \t6     \t28.6\t25 \t31 \n",
            "5  \t7     \t27.9\t25 \t31 \n",
            "6  \t10    \t25.7\t25 \t31 \n",
            "7  \t10    \t27.8\t25 \t42 \n",
            "8  \t6     \t26.1\t25 \t36 \n",
            "9  \t8     \t25  \t25 \t25 \n",
            "10 \t8     \t25  \t25 \t25 \n",
            "11 \t8     \t28.1\t25 \t55 \n",
            "12 \t8     \t25.1\t25 \t26 \n",
            "13 \t9     \t25.1\t25 \t26 \n",
            "14 \t6     \t25  \t25 \t25 \n",
            "15 \t8     \t25.4\t25 \t29 \n",
            "16 \t6     \t25  \t25 \t25 \n",
            "17 \t10    \t25  \t25 \t25 \n",
            "18 \t8     \t30  \t25 \t56 \n",
            "19 \t10    \t27.6\t25 \t42 \n",
            "20 \t9     \t25.4\t25 \t29 \n",
            "21 \t10    \t26.3\t25 \t38 \n",
            "22 \t8     \t25  \t25 \t25 \n",
            "23 \t6     \t25  \t25 \t25 \n",
            "24 \t8     \t25  \t25 \t25 \n",
            "25 \t6     \t25  \t25 \t25 \n",
            "26 \t10    \t26.7\t25 \t42 \n",
            "27 \t8     \t25  \t25 \t25 \n",
            "28 \t8     \t25  \t25 \t25 \n",
            "29 \t7     \t25  \t25 \t25 \n",
            "30 \t10    \t29.8\t25 \t56 \n",
            "------------Resultados---------------\n",
            "[[3, 1, 0, 2, 4], [2, 1, 0, 3, 4], [3, 1, 0, 2, 4], [3, 1, 0, 2, 4], [3, 1, 0, 2, 4], [3, 1, 0, 2, 4], [3, 1, 0, 2, 4], [3, 4, 0, 2, 1], [3, 1, 0, 2, 4], [3, 1, 0, 2, 4]]\n",
            "------------Mejor Camino---------------\n",
            "[[3, 1, 0, 2, 4]]\n",
            "------------Distancia Minima---------------\n",
            "(25,)\n"
          ]
        }
      ],
      "source": [
        "import random\n",
        "from deap import creator, base, tools, algorithms\n",
        "import numpy as np\n",
        "toolbox = base.Toolbox()\n",
        "n = 5\n",
        "\n",
        "creator.create(\"FitnessMin\", base.Fitness, weights=(-1.0,))\n",
        "creator.create(\"EstrIndividuo\", list, fitness=creator.FitnessMin)\n",
        "toolbox.register(\"Genes\", np.random.permutation, n)\n",
        "toolbox.register(\"Individuos\", tools.initIterate, creator.EstrIndividuo, toolbox.Genes)\n",
        "toolbox.register(\"Populacao\", tools.initRepeat, list, toolbox.Individuos)\n",
        "pop = toolbox.Populacao(n=10)\n",
        "toolbox.register(\"mate\", tools.cxPartialyMatched)\n",
        "toolbox.register(\"mutate\", tools.mutShuffleIndexes, indpb=0.1)\n",
        "toolbox.register(\"select\", tools.selTournament, tournsize=2)\n",
        "dist = [\n",
        "    [0, 7, 9, 8, 20],\n",
        "    [7, 0, 10, 4, 11],\n",
        "    [9, 10, 0, 15, 5],\n",
        "    [8, 4, 15, 0, 17],\n",
        "    [20, 11, 5, 17, 0]\n",
        "]\n",
        "\n",
        "\n",
        "def apt(individuo):\n",
        "    f = 0\n",
        "    for i in range(n-1):\n",
        "        local1 = individuo[i]\n",
        "        local2 = individuo[i+1]\n",
        "        distancia = dist[local1][local2]\n",
        "        f = f + distancia\n",
        "    return f,\n",
        "\n",
        "\n",
        "toolbox.register(\"evaluate\", apt)\n",
        "\n",
        "\n",
        "def estadisticaGuardada(individuo):\n",
        "    return individuo.fitness.values\n",
        "\n",
        "\n",
        "estadistica = tools.Statistics(estadisticaGuardada)\n",
        "estadistica.register('mean', np.mean)\n",
        "estadistica.register('min', np.min)\n",
        "estadistica.register('max', np.max)\n",
        "\n",
        "hof = tools.HallOfFame(1)\n",
        "\n",
        "resultado, log = algorithms.eaSimple(\n",
        "    pop,\n",
        "    toolbox,\n",
        "    cxpb=0.8,\n",
        "    mutpb=0.1,\n",
        "    stats=estadistica,\n",
        "    ngen=30,\n",
        "    halloffame=hof,\n",
        "    verbose=True\n",
        ")\n",
        "print(\"Resultados\")\n",
        "print(resultado)\n",
        "print(\"Mejor Camino\")\n",
        "print(hof)\n",
        "\n",
        "menor = hof[0]\n",
        "print(\"Distancia Minima\")\n",
        "print(apt(menor))"
      ]
    }
  ]
}